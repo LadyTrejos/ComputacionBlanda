{
 "cells": [
  {
   "cell_type": "markdown",
   "metadata": {},
   "source": [
    "# Reconocimiento de dígitos manuscritos"
   ]
  },
  {
   "cell_type": "markdown",
   "metadata": {},
   "source": [
    "## Dibujar número a reconocer"
   ]
  },
  {
   "cell_type": "code",
   "execution_count": 1,
   "metadata": {},
   "outputs": [
    {
     "name": "stdout",
     "output_type": "stream",
     "text": [
      "pygame 1.9.4\n",
      "Hello from the pygame community. https://www.pygame.org/contribute.html\n"
     ]
    }
   ],
   "source": [
    "from pygame import *\n",
    "from random import *\n",
    "\n",
    "ANCHO = 400\n",
    "ALTO = 400\n",
    "White =  (255,255,255)\n",
    "\n",
    "class Bloque(sprite.Sprite):\n",
    "    def __init__(self, color, ancho, alto):\n",
    "        sprite.Sprite.__init__(self)\n",
    "        self.image = Surface([ancho, alto])\n",
    "        self.image.fill(color)\n",
    "        self.rect = self.image.get_rect()\n",
    "\n",
    "if __name__ == '__main__':\n",
    "    init()\n",
    "    pantalla = display.set_mode([ANCHO,ALTO])\n",
    "    display.set_caption('Paint')\n",
    "    todos = sprite.Group()          #Siempre se debe hacer un grupo con todos los sprie a mostrar\n",
    "    mouse.set_visible(True)\n",
    "    fin = False\n",
    "    while not fin:\n",
    "        pos = mouse.get_pos()\n",
    "        for evento in event.get():\n",
    "            if evento.type == QUIT:\n",
    "            \timage.save(pantalla, \"foto.jpg\")\n",
    "            \tfin = True\n",
    "        if mouse.get_pressed()==(1,0,0):\n",
    "        \tjugador = Bloque(White, 40, 40)\n",
    "        \ttodos.add(jugador)\n",
    "        \tjugador.rect.x = pos[0]\n",
    "        \tjugador.rect.y = pos[1]\n",
    "        \n",
    "        todos.draw(pantalla)\n",
    "        display.flip()\n"
   ]
  },
  {
   "cell_type": "markdown",
   "metadata": {},
   "source": [
    "### Importar librerías"
   ]
  },
  {
   "cell_type": "code",
   "execution_count": 2,
   "metadata": {},
   "outputs": [
    {
     "name": "stderr",
     "output_type": "stream",
     "text": [
      "Using TensorFlow backend.\n"
     ]
    }
   ],
   "source": [
    "import numpy\n",
    "from keras.datasets import mnist\n",
    "from keras.models import Sequential\n",
    "from keras.layers import Dense\n",
    "from keras.utils import np_utils\n",
    "import matplotlib.pyplot as plt\n",
    "from skimage import io\n",
    "from skimage.transform import resize"
   ]
  },
  {
   "cell_type": "code",
   "execution_count": 3,
   "metadata": {},
   "outputs": [],
   "source": [
    "seed = 7\n",
    "numpy.random.seed(seed)"
   ]
  },
  {
   "cell_type": "markdown",
   "metadata": {},
   "source": [
    "## Cargar datos"
   ]
  },
  {
   "cell_type": "code",
   "execution_count": 4,
   "metadata": {},
   "outputs": [],
   "source": [
    "# Base de datos MNIST\n",
    "(X_train, y_train), (X_test, y_test) = mnist.load_data()\n",
    "\n",
    "#Cargar imagen dibujada anteriormente\n",
    "img = io.imread('foto.jpg', as_gray=True)\n",
    "img = resize(img, (28,28), mode='reflect', anti_aliasing=True)"
   ]
  },
  {
   "cell_type": "markdown",
   "metadata": {},
   "source": [
    "### Visualizar datos cargados"
   ]
  },
  {
   "cell_type": "code",
   "execution_count": 5,
   "metadata": {},
   "outputs": [
    {
     "data": {
      "image/png": "[encoded data removed]",
      "text/plain": [
       "<Figure size 432x288 with 5 Axes>"
      ]
     },
     "metadata": {
      "needs_background": "light"
     },
     "output_type": "display_data"
    }
   ],
   "source": [
    "plt.subplot(321)\n",
    "plt.title('Etiqueta: {}'.format(y_train[8]))\n",
    "plt.imshow(X_train[8], cmap=plt.get_cmap('gray'))\n",
    "plt.axis('off')\n",
    "\n",
    "plt.subplot(322)\n",
    "plt.title('Etiqueta: {}'.format(y_train[13]))\n",
    "plt.imshow(X_train[13], cmap=plt.get_cmap('gray'))\n",
    "plt.axis('off')\n",
    "\n",
    "plt.subplot(323)\n",
    "plt.title('Etiqueta: {}'.format(y_train[22]))\n",
    "plt.imshow(X_train[22], cmap=plt.get_cmap('gray'))\n",
    "plt.axis('off')\n",
    "\n",
    "plt.subplot(324)\n",
    "plt.title('Etiqueta: {}'.format(y_train[5]))\n",
    "plt.imshow(X_train[5], cmap=plt.get_cmap('gray'))\n",
    "plt.axis('off')\n",
    "\n",
    "plt.subplot(325)\n",
    "plt.title('Digito ingresado')\n",
    "plt.imshow(img, cmap=plt.get_cmap('gray'))\n",
    "plt.axis('off')\n",
    "# muestra el plot\n",
    "plt.show()"
   ]
  },
  {
   "cell_type": "markdown",
   "metadata": {},
   "source": [
    "## Redimensionar tensor"
   ]
  },
  {
   "cell_type": "markdown",
   "metadata": {},
   "source": [
    "\n",
    "<img src=\"tensor.jpg\" width=\"600\" height=\"83\"/>"
   ]
  },
  {
   "cell_type": "code",
   "execution_count": 6,
   "metadata": {},
   "outputs": [],
   "source": [
    "#num_pixels = 28 * 28\n",
    "num_pixels = X_train.shape[1] * X_train.shape[2]\n",
    "\n",
    "#Redimensionar array a 6000 x 784 (Estirar imagen a una sola fila)\n",
    "X_train = X_train.reshape(X_train.shape[0], num_pixels).astype('float32')\n",
    "#Redimensionar 10000 imagenes de 28 x 28 (Vector de pixeles)\n",
    "X_test = X_test.reshape(X_test.shape[0], num_pixels).astype('float32')\n",
    "img = img.reshape(1, num_pixels).astype('float32')"
   ]
  },
  {
   "cell_type": "markdown",
   "metadata": {},
   "source": [
    "### Normalizar pixeles"
   ]
  },
  {
   "cell_type": "code",
   "execution_count": 7,
   "metadata": {},
   "outputs": [],
   "source": [
    "X_train = X_train / 255\n",
    "X_test = X_test / 255"
   ]
  },
  {
   "cell_type": "markdown",
   "metadata": {},
   "source": [
    "## One-hot encoding"
   ]
  },
  {
   "cell_type": "markdown",
   "metadata": {},
   "source": [
    "<img src=\"onehot.png\" width=\"500\" height=\"500\" />"
   ]
  },
  {
   "cell_type": "markdown",
   "metadata": {},
   "source": [
    "### Antes"
   ]
  },
  {
   "cell_type": "code",
   "execution_count": 8,
   "metadata": {
    "scrolled": false
   },
   "outputs": [
    {
     "name": "stdout",
     "output_type": "stream",
     "text": [
      "5\n",
      "0\n",
      "4\n",
      "1\n",
      "9\n",
      "2\n",
      "1\n",
      "3\n",
      "1\n",
      "4\n"
     ]
    }
   ],
   "source": [
    "for i in range(10):\n",
    "    print(y_train[i])"
   ]
  },
  {
   "cell_type": "markdown",
   "metadata": {},
   "source": [
    "## Codificación"
   ]
  },
  {
   "cell_type": "code",
   "execution_count": 9,
   "metadata": {},
   "outputs": [],
   "source": [
    "# Convertir categorias a una matriz de clasificacion binaria (es un 3?: 1 si o 0 no)\n",
    "y_train = np_utils.to_categorical(y_train)\n",
    "y_test = np_utils.to_categorical(y_test)\n",
    "\n",
    "num_classes = y_test.shape[1]"
   ]
  },
  {
   "cell_type": "markdown",
   "metadata": {},
   "source": [
    "### Después "
   ]
  },
  {
   "cell_type": "code",
   "execution_count": 10,
   "metadata": {
    "scrolled": true
   },
   "outputs": [
    {
     "name": "stdout",
     "output_type": "stream",
     "text": [
      "[0. 0. 0. 0. 0. 1. 0. 0. 0. 0.]\n",
      "[1. 0. 0. 0. 0. 0. 0. 0. 0. 0.]\n",
      "[0. 0. 0. 0. 1. 0. 0. 0. 0. 0.]\n",
      "[0. 1. 0. 0. 0. 0. 0. 0. 0. 0.]\n",
      "[0. 0. 0. 0. 0. 0. 0. 0. 0. 1.]\n",
      "[0. 0. 1. 0. 0. 0. 0. 0. 0. 0.]\n",
      "[0. 1. 0. 0. 0. 0. 0. 0. 0. 0.]\n",
      "[0. 0. 0. 1. 0. 0. 0. 0. 0. 0.]\n",
      "[0. 1. 0. 0. 0. 0. 0. 0. 0. 0.]\n",
      "[0. 0. 0. 0. 1. 0. 0. 0. 0. 0.]\n"
     ]
    }
   ],
   "source": [
    "# Después del one-hot encoding\n",
    "for i in range(10):\n",
    "    print(y_train[i])"
   ]
  },
  {
   "cell_type": "markdown",
   "metadata": {},
   "source": [
    "## Creación del modelo"
   ]
  },
  {
   "attachments": {},
   "cell_type": "markdown",
   "metadata": {},
   "source": [
    "```model = Sequential()\n",
    "model.add(Dense(12, input_dim=8, init='uniform', activation='relu'))\n",
    "model.add(Dense(8, init='uniform', activation='relu'))\n",
    "model.add(Dense(1, init='uniform', activation='sigmoid'))\n",
    "```\n",
    "                \n",
    "<img src=\"http://keras.dhpit.com/img/nn.png\" width=\"400\" height=\"400\" />"
   ]
  },
  {
   "cell_type": "code",
   "execution_count": 11,
   "metadata": {},
   "outputs": [],
   "source": [
    "def baseline_model():\n",
    "    # Crea el modelo de tipo secuencial (\"Una capa delante de la otra\")\n",
    "    model = Sequential()\n",
    "    # Añadir capa de entrada 784 datos y 784 neuronas en la primera capa\n",
    "    model.add(Dense(num_pixels, input_dim=num_pixels, kernel_initializer='normal', activation='relu'))\n",
    "    # Capa de salida\n",
    "    model.add(Dense(num_classes, kernel_initializer='normal', activation='softmax'))\n",
    "    # Compila el modelo\n",
    "    model.compile(loss='categorical_crossentropy', optimizer='adam', metrics=['accuracy'])\n",
    "    return model\n",
    "\n",
    "# Construir del modelo\n",
    "model = baseline_model()"
   ]
  },
  {
   "cell_type": "markdown",
   "metadata": {},
   "source": [
    "## Entrenamiento y evaluación"
   ]
  },
  {
   "cell_type": "code",
   "execution_count": 12,
   "metadata": {},
   "outputs": [
    {
     "name": "stdout",
     "output_type": "stream",
     "text": [
      "Train on 60000 samples, validate on 10000 samples\n",
      "Epoch 1/10\n",
      " - 5s - loss: 0.3723 - acc: 0.8963 - val_loss: 0.1891 - val_acc: 0.9444\n",
      "Epoch 2/10\n",
      " - 4s - loss: 0.1546 - acc: 0.9567 - val_loss: 0.1310 - val_acc: 0.9624\n",
      "Epoch 3/10\n",
      " - 4s - loss: 0.1067 - acc: 0.9695 - val_loss: 0.0981 - val_acc: 0.9700\n",
      "Epoch 4/10\n",
      " - 5s - loss: 0.0802 - acc: 0.9774 - val_loss: 0.0906 - val_acc: 0.9736\n",
      "Epoch 5/10\n",
      " - 5s - loss: 0.0615 - acc: 0.9830 - val_loss: 0.0746 - val_acc: 0.9777\n",
      "Epoch 6/10\n",
      " - 5s - loss: 0.0471 - acc: 0.9874 - val_loss: 0.0688 - val_acc: 0.9792\n",
      "Epoch 7/10\n",
      " - 4s - loss: 0.0379 - acc: 0.9901 - val_loss: 0.0694 - val_acc: 0.9780\n",
      "Epoch 8/10\n",
      " - 4s - loss: 0.0304 - acc: 0.9924 - val_loss: 0.0626 - val_acc: 0.9811\n",
      "Epoch 9/10\n",
      " - 4s - loss: 0.0240 - acc: 0.9945 - val_loss: 0.0622 - val_acc: 0.9802\n",
      "Epoch 10/10\n",
      " - 4s - loss: 0.0197 - acc: 0.9962 - val_loss: 0.0590 - val_acc: 0.9808\n",
      "[0.05898521497973706, 0.9808]\n",
      "Baseline Error: 1.92%\n"
     ]
    }
   ],
   "source": [
    "# Entrenar el modelo\n",
    "model.fit(X_train, y_train, validation_data=(X_test, y_test), epochs=10, batch_size=500, verbose=2)\n",
    "\n",
    "# Evaluacion del modelo\n",
    "scores = model.evaluate(X_test, y_test, verbose=0)\n",
    "print(scores)\n",
    "print(\"Baseline Error: %.2f%%\" % (100-scores[1]*100))"
   ]
  },
  {
   "cell_type": "markdown",
   "metadata": {},
   "source": [
    "## Predicción del dígito dibujado"
   ]
  },
  {
   "cell_type": "code",
   "execution_count": 13,
   "metadata": {},
   "outputs": [
    {
     "name": "stdout",
     "output_type": "stream",
     "text": [
      "[3]\n"
     ]
    }
   ],
   "source": [
    "y_predict = model.predict_classes([img], verbose=0)\n",
    "print(y_predict)"
   ]
  },
  {
   "cell_type": "markdown",
   "metadata": {},
   "source": [
    "http://projector.tensorflow.org/"
   ]
  },
  {
   "cell_type": "markdown",
   "metadata": {},
   "source": [
    "# CNN"
   ]
  },
  {
   "cell_type": "code",
   "execution_count": null,
   "metadata": {},
   "outputs": [],
   "source": [
    "import numpy\n",
    "from skimage import io\n",
    "from keras.datasets import mnist\n",
    "from keras.models import Sequential\n",
    "from keras.layers import Dense\n",
    "from keras.layers import Dropout\n",
    "from keras.layers import Flatten\n",
    "from keras.layers.convolutional import Conv2D\n",
    "from keras.layers.convolutional import MaxPooling2D\n",
    "from keras.utils import np_utils\n",
    "# ajusta el orden\n",
    "from keras import backend as K\n",
    "K.set_image_dim_ordering('th')"
   ]
  },
  {
   "cell_type": "code",
   "execution_count": null,
   "metadata": {},
   "outputs": [],
   "source": [
    "seed = 7\n",
    "numpy.random.seed(seed)"
   ]
  },
  {
   "cell_type": "code",
   "execution_count": null,
   "metadata": {},
   "outputs": [],
   "source": [
    "# cargamos los datos\n",
    "(X_train, y_train), (X_test, y_test) = mnist.load_data()\n",
    "img = io.imread('foto.jpg', as_gray=True)\n",
    "img = resize(img, (28,28), mode='reflect', anti_aliasing=True)"
   ]
  },
  {
   "cell_type": "code",
   "execution_count": null,
   "metadata": {},
   "outputs": [],
   "source": [
    "# reformas para [ejemplo][canales][ancho][alto]\n",
    "X_train = X_train.reshape(X_train.shape[0], 1, 28, 28).astype('float32')\n",
    "X_test = X_test.reshape(X_test.shape[0], 1, 28, 28).astype('float32')\n",
    "\n",
    "img = img.reshape(1,1,28,28).astype('float16')"
   ]
  },
  {
   "cell_type": "code",
   "execution_count": null,
   "metadata": {},
   "outputs": [],
   "source": [
    "X_train = X_train / 255\n",
    "X_test = X_test / 255"
   ]
  },
  {
   "cell_type": "code",
   "execution_count": null,
   "metadata": {},
   "outputs": [],
   "source": [
    "# One hot encoding\n",
    "y_train = np_utils.to_categorical(y_train)\n",
    "y_test = np_utils.to_categorical(y_test)\n",
    "num_classes = y_test.shape[1]"
   ]
  },
  {
   "cell_type": "code",
   "execution_count": null,
   "metadata": {},
   "outputs": [],
   "source": [
    "def baseline_model():\n",
    "    # Crea el modelo\n",
    "    model = Sequential()\n",
    "    model.add(Conv2D(32, (5, 5), input_shape=(1, 28, 28), activation='relu'))\n",
    "    model.add(MaxPooling2D(pool_size=(2, 2)))\n",
    "    model.add(Dropout(0.2))\n",
    "    model.add(Flatten())\n",
    "    model.add(Dense(128, activation='relu'))\n",
    "    model.add(Dense(num_classes, activation='softmax'))\n",
    "    # Compile el modelo\n",
    "    model.compile(loss='categorical_crossentropy', optimizer='adam', metrics=['accuracy'])\n",
    "    return model"
   ]
  },
  {
   "cell_type": "code",
   "execution_count": null,
   "metadata": {},
   "outputs": [],
   "source": [
    "# construimos el modelo\n",
    "model = baseline_model()\n",
    "# entrenamos el modelo\n",
    "model.fit(X_train, y_train, validation_data=(X_test, y_test), epochs=10, batch_size=500)\n",
    "# Final evaluacion del modelo\n",
    "scores = model.evaluate(X_test, y_test, verbose=0)\n",
    "print(\"CNN Error: %.2f%%\" % (100-scores[1]*100))"
   ]
  },
  {
   "cell_type": "code",
   "execution_count": null,
   "metadata": {},
   "outputs": [],
   "source": [
    "y_predict = model.predict_classes([img], verbose=0)\n",
    "print(y_predict)"
   ]
  },
  {
   "cell_type": "code",
   "execution_count": null,
   "metadata": {},
   "outputs": [],
   "source": []
  },
  {
   "cell_type": "code",
   "execution_count": null,
   "metadata": {},
   "outputs": [],
   "source": []
  }
 ],
 "metadata": {
  "kernelspec": {
   "display_name": "Python 3",
   "language": "python",
   "name": "python3"
  },
  "language_info": {
   "codemirror_mode": {
    "name": "ipython",
    "version": 3
   },
   "file_extension": ".py",
   "mimetype": "text/x-python",
   "name": "python",
   "nbconvert_exporter": "python",
   "pygments_lexer": "ipython3",
   "version": "3.6.6"
  }
 },
 "nbformat": 4,
 "nbformat_minor": 2
}
